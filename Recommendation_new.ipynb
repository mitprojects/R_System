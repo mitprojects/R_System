{
  "nbformat": 4,
  "nbformat_minor": 0,
  "metadata": {
    "colab": {
      "name": "Recommendation_new.ipynb",
      "provenance": [],
      "collapsed_sections": [],
      "authorship_tag": "ABX9TyNUtahIErHBN2qQmOeLUMMw",
      "include_colab_link": true
    },
    "kernelspec": {
      "name": "python3",
      "display_name": "Python 3"
    },
    "language_info": {
      "name": "python"
    },
    "accelerator": "GPU",
    "widgets": {
      "application/vnd.jupyter.widget-state+json": {
        "ea2bf7b4e4e540faa9951aea682c081b": {
          "model_module": "@jupyter-widgets/controls",
          "model_name": "HBoxModel",
          "state": {
            "_view_name": "HBoxView",
            "_dom_classes": [],
            "_model_name": "HBoxModel",
            "_view_module": "@jupyter-widgets/controls",
            "_model_module_version": "1.5.0",
            "_view_count": null,
            "_view_module_version": "1.5.0",
            "box_style": "",
            "layout": "IPY_MODEL_a2be4c83e276487bb6bc7a7e4106e502",
            "_model_module": "@jupyter-widgets/controls",
            "children": [
              "IPY_MODEL_800d96b5a3664e76a5170a6582ea7722",
              "IPY_MODEL_9e30857c9f5c42a6a91b1b687468ef39"
            ]
          }
        },
        "a2be4c83e276487bb6bc7a7e4106e502": {
          "model_module": "@jupyter-widgets/base",
          "model_name": "LayoutModel",
          "state": {
            "_view_name": "LayoutView",
            "grid_template_rows": null,
            "right": null,
            "justify_content": null,
            "_view_module": "@jupyter-widgets/base",
            "overflow": null,
            "_model_module_version": "1.2.0",
            "_view_count": null,
            "flex_flow": null,
            "width": null,
            "min_width": null,
            "border": null,
            "align_items": null,
            "bottom": null,
            "_model_module": "@jupyter-widgets/base",
            "top": null,
            "grid_column": null,
            "overflow_y": null,
            "overflow_x": null,
            "grid_auto_flow": null,
            "grid_area": null,
            "grid_template_columns": null,
            "flex": null,
            "_model_name": "LayoutModel",
            "justify_items": null,
            "grid_row": null,
            "max_height": null,
            "align_content": null,
            "visibility": null,
            "align_self": null,
            "height": null,
            "min_height": null,
            "padding": null,
            "grid_auto_rows": null,
            "grid_gap": null,
            "max_width": null,
            "order": null,
            "_view_module_version": "1.2.0",
            "grid_template_areas": null,
            "object_position": null,
            "object_fit": null,
            "grid_auto_columns": null,
            "margin": null,
            "display": null,
            "left": null
          }
        },
        "800d96b5a3664e76a5170a6582ea7722": {
          "model_module": "@jupyter-widgets/controls",
          "model_name": "FloatProgressModel",
          "state": {
            "_view_name": "ProgressView",
            "style": "IPY_MODEL_abc1dd4341c84a31b5234d9a0bf87344",
            "_dom_classes": [],
            "description": "100%",
            "_model_name": "FloatProgressModel",
            "bar_style": "success",
            "max": 50,
            "_view_module": "@jupyter-widgets/controls",
            "_model_module_version": "1.5.0",
            "value": 50,
            "_view_count": null,
            "_view_module_version": "1.5.0",
            "orientation": "horizontal",
            "min": 0,
            "description_tooltip": null,
            "_model_module": "@jupyter-widgets/controls",
            "layout": "IPY_MODEL_13c4a4ec7e4e4530b597c30b1fd1aacf"
          }
        },
        "9e30857c9f5c42a6a91b1b687468ef39": {
          "model_module": "@jupyter-widgets/controls",
          "model_name": "HTMLModel",
          "state": {
            "_view_name": "HTMLView",
            "style": "IPY_MODEL_c7458fd3cd494466ab1b5ab9ebfbb6b8",
            "_dom_classes": [],
            "description": "",
            "_model_name": "HTMLModel",
            "placeholder": "​",
            "_view_module": "@jupyter-widgets/controls",
            "_model_module_version": "1.5.0",
            "value": " 50/50 [00:03&lt;00:00, 14.76it/s]",
            "_view_count": null,
            "_view_module_version": "1.5.0",
            "description_tooltip": null,
            "_model_module": "@jupyter-widgets/controls",
            "layout": "IPY_MODEL_991e39005de742deb6b622bc338073fa"
          }
        },
        "abc1dd4341c84a31b5234d9a0bf87344": {
          "model_module": "@jupyter-widgets/controls",
          "model_name": "ProgressStyleModel",
          "state": {
            "_view_name": "StyleView",
            "_model_name": "ProgressStyleModel",
            "description_width": "initial",
            "_view_module": "@jupyter-widgets/base",
            "_model_module_version": "1.5.0",
            "_view_count": null,
            "_view_module_version": "1.2.0",
            "bar_color": null,
            "_model_module": "@jupyter-widgets/controls"
          }
        },
        "13c4a4ec7e4e4530b597c30b1fd1aacf": {
          "model_module": "@jupyter-widgets/base",
          "model_name": "LayoutModel",
          "state": {
            "_view_name": "LayoutView",
            "grid_template_rows": null,
            "right": null,
            "justify_content": null,
            "_view_module": "@jupyter-widgets/base",
            "overflow": null,
            "_model_module_version": "1.2.0",
            "_view_count": null,
            "flex_flow": null,
            "width": null,
            "min_width": null,
            "border": null,
            "align_items": null,
            "bottom": null,
            "_model_module": "@jupyter-widgets/base",
            "top": null,
            "grid_column": null,
            "overflow_y": null,
            "overflow_x": null,
            "grid_auto_flow": null,
            "grid_area": null,
            "grid_template_columns": null,
            "flex": null,
            "_model_name": "LayoutModel",
            "justify_items": null,
            "grid_row": null,
            "max_height": null,
            "align_content": null,
            "visibility": null,
            "align_self": null,
            "height": null,
            "min_height": null,
            "padding": null,
            "grid_auto_rows": null,
            "grid_gap": null,
            "max_width": null,
            "order": null,
            "_view_module_version": "1.2.0",
            "grid_template_areas": null,
            "object_position": null,
            "object_fit": null,
            "grid_auto_columns": null,
            "margin": null,
            "display": null,
            "left": null
          }
        },
        "c7458fd3cd494466ab1b5ab9ebfbb6b8": {
          "model_module": "@jupyter-widgets/controls",
          "model_name": "DescriptionStyleModel",
          "state": {
            "_view_name": "StyleView",
            "_model_name": "DescriptionStyleModel",
            "description_width": "",
            "_view_module": "@jupyter-widgets/base",
            "_model_module_version": "1.5.0",
            "_view_count": null,
            "_view_module_version": "1.2.0",
            "_model_module": "@jupyter-widgets/controls"
          }
        },
        "991e39005de742deb6b622bc338073fa": {
          "model_module": "@jupyter-widgets/base",
          "model_name": "LayoutModel",
          "state": {
            "_view_name": "LayoutView",
            "grid_template_rows": null,
            "right": null,
            "justify_content": null,
            "_view_module": "@jupyter-widgets/base",
            "overflow": null,
            "_model_module_version": "1.2.0",
            "_view_count": null,
            "flex_flow": null,
            "width": null,
            "min_width": null,
            "border": null,
            "align_items": null,
            "bottom": null,
            "_model_module": "@jupyter-widgets/base",
            "top": null,
            "grid_column": null,
            "overflow_y": null,
            "overflow_x": null,
            "grid_auto_flow": null,
            "grid_area": null,
            "grid_template_columns": null,
            "flex": null,
            "_model_name": "LayoutModel",
            "justify_items": null,
            "grid_row": null,
            "max_height": null,
            "align_content": null,
            "visibility": null,
            "align_self": null,
            "height": null,
            "min_height": null,
            "padding": null,
            "grid_auto_rows": null,
            "grid_gap": null,
            "max_width": null,
            "order": null,
            "_view_module_version": "1.2.0",
            "grid_template_areas": null,
            "object_position": null,
            "object_fit": null,
            "grid_auto_columns": null,
            "margin": null,
            "display": null,
            "left": null
          }
        }
      }
    }
  },
  "cells": [
    {
      "cell_type": "markdown",
      "metadata": {
        "id": "view-in-github",
        "colab_type": "text"
      },
      "source": [
        "<a href=\"https://colab.research.google.com/github/mitprojects/R_System/blob/main/Recommendation_new.ipynb\" target=\"_parent\"><img src=\"https://colab.research.google.com/assets/colab-badge.svg\" alt=\"Open In Colab\"/></a>"
      ]
    },
    {
      "cell_type": "code",
      "metadata": {
        "id": "IZmTnv40P2dA",
        "colab": {
          "base_uri": "https://localhost:8080/"
        },
        "outputId": "1ca3ea48-054c-4ee7-89c0-892e3aeece01"
      },
      "source": [
        "from google.colab import drive\n",
        "drive.mount('/content/drive')"
      ],
      "execution_count": 1,
      "outputs": [
        {
          "output_type": "stream",
          "text": [
            "Mounted at /content/drive\n"
          ],
          "name": "stdout"
        }
      ]
    },
    {
      "cell_type": "code",
      "metadata": {
        "colab": {
          "base_uri": "https://localhost:8080/"
        },
        "id": "-9PT1ZhrQ278",
        "outputId": "ded73065-3b5d-462c-daa1-65a08a41df02"
      },
      "source": [
        "!pip install implicit"
      ],
      "execution_count": 2,
      "outputs": [
        {
          "output_type": "stream",
          "text": [
            "Collecting implicit\n",
            "\u001b[?25l  Downloading https://files.pythonhosted.org/packages/bc/07/c0121884722d16e2c5beeb815f6b84b41cbf22e738e4075f1475be2791bc/implicit-0.4.4.tar.gz (1.1MB)\n",
            "\r\u001b[K     |▎                               | 10kB 18.2MB/s eta 0:00:01\r\u001b[K     |▋                               | 20kB 26.3MB/s eta 0:00:01\r\u001b[K     |▉                               | 30kB 22.9MB/s eta 0:00:01\r\u001b[K     |█▏                              | 40kB 26.6MB/s eta 0:00:01\r\u001b[K     |█▌                              | 51kB 27.3MB/s eta 0:00:01\r\u001b[K     |█▊                              | 61kB 30.1MB/s eta 0:00:01\r\u001b[K     |██                              | 71kB 19.8MB/s eta 0:00:01\r\u001b[K     |██▍                             | 81kB 21.2MB/s eta 0:00:01\r\u001b[K     |██▋                             | 92kB 19.2MB/s eta 0:00:01\r\u001b[K     |███                             | 102kB 19.6MB/s eta 0:00:01\r\u001b[K     |███▎                            | 112kB 19.6MB/s eta 0:00:01\r\u001b[K     |███▌                            | 122kB 19.6MB/s eta 0:00:01\r\u001b[K     |███▉                            | 133kB 19.6MB/s eta 0:00:01\r\u001b[K     |████▏                           | 143kB 19.6MB/s eta 0:00:01\r\u001b[K     |████▍                           | 153kB 19.6MB/s eta 0:00:01\r\u001b[K     |████▊                           | 163kB 19.6MB/s eta 0:00:01\r\u001b[K     |█████                           | 174kB 19.6MB/s eta 0:00:01\r\u001b[K     |█████▎                          | 184kB 19.6MB/s eta 0:00:01\r\u001b[K     |█████▋                          | 194kB 19.6MB/s eta 0:00:01\r\u001b[K     |██████                          | 204kB 19.6MB/s eta 0:00:01\r\u001b[K     |██████▏                         | 215kB 19.6MB/s eta 0:00:01\r\u001b[K     |██████▌                         | 225kB 19.6MB/s eta 0:00:01\r\u001b[K     |██████▉                         | 235kB 19.6MB/s eta 0:00:01\r\u001b[K     |███████                         | 245kB 19.6MB/s eta 0:00:01\r\u001b[K     |███████▍                        | 256kB 19.6MB/s eta 0:00:01\r\u001b[K     |███████▊                        | 266kB 19.6MB/s eta 0:00:01\r\u001b[K     |████████                        | 276kB 19.6MB/s eta 0:00:01\r\u001b[K     |████████▎                       | 286kB 19.6MB/s eta 0:00:01\r\u001b[K     |████████▋                       | 296kB 19.6MB/s eta 0:00:01\r\u001b[K     |████████▉                       | 307kB 19.6MB/s eta 0:00:01\r\u001b[K     |█████████▏                      | 317kB 19.6MB/s eta 0:00:01\r\u001b[K     |█████████▌                      | 327kB 19.6MB/s eta 0:00:01\r\u001b[K     |█████████▊                      | 337kB 19.6MB/s eta 0:00:01\r\u001b[K     |██████████                      | 348kB 19.6MB/s eta 0:00:01\r\u001b[K     |██████████▍                     | 358kB 19.6MB/s eta 0:00:01\r\u001b[K     |██████████▋                     | 368kB 19.6MB/s eta 0:00:01\r\u001b[K     |███████████                     | 378kB 19.6MB/s eta 0:00:01\r\u001b[K     |███████████▏                    | 389kB 19.6MB/s eta 0:00:01\r\u001b[K     |███████████▌                    | 399kB 19.6MB/s eta 0:00:01\r\u001b[K     |███████████▉                    | 409kB 19.6MB/s eta 0:00:01\r\u001b[K     |████████████                    | 419kB 19.6MB/s eta 0:00:01\r\u001b[K     |████████████▍                   | 430kB 19.6MB/s eta 0:00:01\r\u001b[K     |████████████▊                   | 440kB 19.6MB/s eta 0:00:01\r\u001b[K     |█████████████                   | 450kB 19.6MB/s eta 0:00:01\r\u001b[K     |█████████████▎                  | 460kB 19.6MB/s eta 0:00:01\r\u001b[K     |█████████████▋                  | 471kB 19.6MB/s eta 0:00:01\r\u001b[K     |█████████████▉                  | 481kB 19.6MB/s eta 0:00:01\r\u001b[K     |██████████████▏                 | 491kB 19.6MB/s eta 0:00:01\r\u001b[K     |██████████████▌                 | 501kB 19.6MB/s eta 0:00:01\r\u001b[K     |██████████████▊                 | 512kB 19.6MB/s eta 0:00:01\r\u001b[K     |███████████████                 | 522kB 19.6MB/s eta 0:00:01\r\u001b[K     |███████████████▍                | 532kB 19.6MB/s eta 0:00:01\r\u001b[K     |███████████████▋                | 542kB 19.6MB/s eta 0:00:01\r\u001b[K     |████████████████                | 552kB 19.6MB/s eta 0:00:01\r\u001b[K     |████████████████▎               | 563kB 19.6MB/s eta 0:00:01\r\u001b[K     |████████████████▌               | 573kB 19.6MB/s eta 0:00:01\r\u001b[K     |████████████████▉               | 583kB 19.6MB/s eta 0:00:01\r\u001b[K     |█████████████████▏              | 593kB 19.6MB/s eta 0:00:01\r\u001b[K     |█████████████████▍              | 604kB 19.6MB/s eta 0:00:01\r\u001b[K     |█████████████████▊              | 614kB 19.6MB/s eta 0:00:01\r\u001b[K     |██████████████████              | 624kB 19.6MB/s eta 0:00:01\r\u001b[K     |██████████████████▎             | 634kB 19.6MB/s eta 0:00:01\r\u001b[K     |██████████████████▋             | 645kB 19.6MB/s eta 0:00:01\r\u001b[K     |███████████████████             | 655kB 19.6MB/s eta 0:00:01\r\u001b[K     |███████████████████▏            | 665kB 19.6MB/s eta 0:00:01\r\u001b[K     |███████████████████▌            | 675kB 19.6MB/s eta 0:00:01\r\u001b[K     |███████████████████▉            | 686kB 19.6MB/s eta 0:00:01\r\u001b[K     |████████████████████            | 696kB 19.6MB/s eta 0:00:01\r\u001b[K     |████████████████████▍           | 706kB 19.6MB/s eta 0:00:01\r\u001b[K     |████████████████████▊           | 716kB 19.6MB/s eta 0:00:01\r\u001b[K     |█████████████████████           | 727kB 19.6MB/s eta 0:00:01\r\u001b[K     |█████████████████████▎          | 737kB 19.6MB/s eta 0:00:01\r\u001b[K     |█████████████████████▋          | 747kB 19.6MB/s eta 0:00:01\r\u001b[K     |█████████████████████▉          | 757kB 19.6MB/s eta 0:00:01\r\u001b[K     |██████████████████████▏         | 768kB 19.6MB/s eta 0:00:01\r\u001b[K     |██████████████████████▍         | 778kB 19.6MB/s eta 0:00:01\r\u001b[K     |██████████████████████▊         | 788kB 19.6MB/s eta 0:00:01\r\u001b[K     |███████████████████████         | 798kB 19.6MB/s eta 0:00:01\r\u001b[K     |███████████████████████▎        | 808kB 19.6MB/s eta 0:00:01\r\u001b[K     |███████████████████████▋        | 819kB 19.6MB/s eta 0:00:01\r\u001b[K     |████████████████████████        | 829kB 19.6MB/s eta 0:00:01\r\u001b[K     |████████████████████████▏       | 839kB 19.6MB/s eta 0:00:01\r\u001b[K     |████████████████████████▌       | 849kB 19.6MB/s eta 0:00:01\r\u001b[K     |████████████████████████▉       | 860kB 19.6MB/s eta 0:00:01\r\u001b[K     |█████████████████████████       | 870kB 19.6MB/s eta 0:00:01\r\u001b[K     |█████████████████████████▍      | 880kB 19.6MB/s eta 0:00:01\r\u001b[K     |█████████████████████████▊      | 890kB 19.6MB/s eta 0:00:01\r\u001b[K     |██████████████████████████      | 901kB 19.6MB/s eta 0:00:01\r\u001b[K     |██████████████████████████▎     | 911kB 19.6MB/s eta 0:00:01\r\u001b[K     |██████████████████████████▋     | 921kB 19.6MB/s eta 0:00:01\r\u001b[K     |██████████████████████████▉     | 931kB 19.6MB/s eta 0:00:01\r\u001b[K     |███████████████████████████▏    | 942kB 19.6MB/s eta 0:00:01\r\u001b[K     |███████████████████████████▌    | 952kB 19.6MB/s eta 0:00:01\r\u001b[K     |███████████████████████████▊    | 962kB 19.6MB/s eta 0:00:01\r\u001b[K     |████████████████████████████    | 972kB 19.6MB/s eta 0:00:01\r\u001b[K     |████████████████████████████▍   | 983kB 19.6MB/s eta 0:00:01\r\u001b[K     |████████████████████████████▋   | 993kB 19.6MB/s eta 0:00:01\r\u001b[K     |█████████████████████████████   | 1.0MB 19.6MB/s eta 0:00:01\r\u001b[K     |█████████████████████████████▎  | 1.0MB 19.6MB/s eta 0:00:01\r\u001b[K     |█████████████████████████████▌  | 1.0MB 19.6MB/s eta 0:00:01\r\u001b[K     |█████████████████████████████▉  | 1.0MB 19.6MB/s eta 0:00:01\r\u001b[K     |██████████████████████████████▏ | 1.0MB 19.6MB/s eta 0:00:01\r\u001b[K     |██████████████████████████████▍ | 1.1MB 19.6MB/s eta 0:00:01\r\u001b[K     |██████████████████████████████▊ | 1.1MB 19.6MB/s eta 0:00:01\r\u001b[K     |███████████████████████████████ | 1.1MB 19.6MB/s eta 0:00:01\r\u001b[K     |███████████████████████████████▎| 1.1MB 19.6MB/s eta 0:00:01\r\u001b[K     |███████████████████████████████▋| 1.1MB 19.6MB/s eta 0:00:01\r\u001b[K     |████████████████████████████████| 1.1MB 19.6MB/s eta 0:00:01\r\u001b[K     |████████████████████████████████| 1.1MB 19.6MB/s \n",
            "\u001b[?25hRequirement already satisfied: numpy in /usr/local/lib/python3.7/dist-packages (from implicit) (1.19.5)\n",
            "Requirement already satisfied: scipy>=0.16 in /usr/local/lib/python3.7/dist-packages (from implicit) (1.4.1)\n",
            "Requirement already satisfied: tqdm>=4.27 in /usr/local/lib/python3.7/dist-packages (from implicit) (4.41.1)\n",
            "Building wheels for collected packages: implicit\n",
            "  Building wheel for implicit (setup.py) ... \u001b[?25l\u001b[?25hdone\n",
            "  Created wheel for implicit: filename=implicit-0.4.4-cp37-cp37m-linux_x86_64.whl size=3406398 sha256=13acd80f47e9e7937ac67e7beeb3b0e3dd7f3e63ced0ef93d07e0c71ebf5b3de\n",
            "  Stored in directory: /root/.cache/pip/wheels/bf/d4/ec/fd4f622fcbefb7521f149905295b2c26adecb23af38aa28217\n",
            "Successfully built implicit\n",
            "Installing collected packages: implicit\n",
            "Successfully installed implicit-0.4.4\n"
          ],
          "name": "stdout"
        }
      ]
    },
    {
      "cell_type": "code",
      "metadata": {
        "id": "02HuknVuPPak"
      },
      "source": [
        "import pandas as pd\n",
        "import scipy.sparse as sparse\n",
        "import os\n",
        "import numpy as np\n",
        "import random\n",
        "import implicit\n",
        "from sklearn.preprocessing import MinMaxScaler\n",
        "from sklearn import metrics"
      ],
      "execution_count": 3,
      "outputs": []
    },
    {
      "cell_type": "code",
      "metadata": {
        "id": "_X45wJkCiIWY"
      },
      "source": [
        "Data_dir = os.getcwd() + \"/drive/MyDrive/Colab Notebooks/\""
      ],
      "execution_count": 4,
      "outputs": []
    },
    {
      "cell_type": "code",
      "metadata": {
        "id": "J1n0eOAPPPan"
      },
      "source": [
        "new_data = pd.read_csv(Data_dir+'new Data/archive/new_RS_data.csv')\n",
        "new_data.drop(columns=['Unnamed: 0'],axis=1,inplace=True)"
      ],
      "execution_count": 5,
      "outputs": []
    },
    {
      "cell_type": "code",
      "metadata": {
        "id": "oNtKDiVlU8EV"
      },
      "source": [
        "new_data.rename(columns={'content_id':'product_id','contentId':'productId'},inplace=True)"
      ],
      "execution_count": 7,
      "outputs": []
    },
    {
      "cell_type": "code",
      "metadata": {
        "colab": {
          "base_uri": "https://localhost:8080/",
          "height": 202
        },
        "id": "Ug81sDvMv7Wb",
        "outputId": "09c94fa1-f842-44d3-d0ef-ea1f9225c7f1"
      },
      "source": [
        "new_data.head()"
      ],
      "execution_count": 8,
      "outputs": [
        {
          "output_type": "execute_result",
          "data": {
            "text/html": [
              "<div>\n",
              "<style scoped>\n",
              "    .dataframe tbody tr th:only-of-type {\n",
              "        vertical-align: middle;\n",
              "    }\n",
              "\n",
              "    .dataframe tbody tr th {\n",
              "        vertical-align: top;\n",
              "    }\n",
              "\n",
              "    .dataframe thead th {\n",
              "        text-align: right;\n",
              "    }\n",
              "</style>\n",
              "<table border=\"1\" class=\"dataframe\">\n",
              "  <thead>\n",
              "    <tr style=\"text-align: right;\">\n",
              "      <th></th>\n",
              "      <th>product_name</th>\n",
              "      <th>product_id</th>\n",
              "      <th>personId</th>\n",
              "      <th>productId</th>\n",
              "      <th>eventStrength</th>\n",
              "      <th>person_id</th>\n",
              "    </tr>\n",
              "  </thead>\n",
              "  <tbody>\n",
              "    <tr>\n",
              "      <th>0</th>\n",
              "      <td>XPS 13 2-in-1 Laptop</td>\n",
              "      <td>1</td>\n",
              "      <td>-9207251133131336884</td>\n",
              "      <td>-9216926795620865886</td>\n",
              "      <td>3.0</td>\n",
              "      <td>0</td>\n",
              "    </tr>\n",
              "    <tr>\n",
              "      <th>1</th>\n",
              "      <td>XPS 17 Laptop</td>\n",
              "      <td>3</td>\n",
              "      <td>-9016528795238256703</td>\n",
              "      <td>-9192549002213406534</td>\n",
              "      <td>1.0</td>\n",
              "      <td>1</td>\n",
              "    </tr>\n",
              "    <tr>\n",
              "      <th>2</th>\n",
              "      <td>Inspiron 14 Laptop</td>\n",
              "      <td>7</td>\n",
              "      <td>-9016528795238256703</td>\n",
              "      <td>-9176143510534135851</td>\n",
              "      <td>1.0</td>\n",
              "      <td>1</td>\n",
              "    </tr>\n",
              "    <tr>\n",
              "      <th>3</th>\n",
              "      <td>Inspiron 15 3000 Laptop</td>\n",
              "      <td>3</td>\n",
              "      <td>-9016528795238256703</td>\n",
              "      <td>-9192549002213406534</td>\n",
              "      <td>1.0</td>\n",
              "      <td>1</td>\n",
              "    </tr>\n",
              "    <tr>\n",
              "      <th>4</th>\n",
              "      <td>Alienware m17 R4 Gaming Laptop</td>\n",
              "      <td>12</td>\n",
              "      <td>-9009798162809551896</td>\n",
              "      <td>-9160910454530522563</td>\n",
              "      <td>1.0</td>\n",
              "      <td>2</td>\n",
              "    </tr>\n",
              "  </tbody>\n",
              "</table>\n",
              "</div>"
            ],
            "text/plain": [
              "                     product_name  product_id  ...  eventStrength  person_id\n",
              "0            XPS 13 2-in-1 Laptop           1  ...            3.0          0\n",
              "1                   XPS 17 Laptop           3  ...            1.0          1\n",
              "2              Inspiron 14 Laptop           7  ...            1.0          1\n",
              "3         Inspiron 15 3000 Laptop           3  ...            1.0          1\n",
              "4  Alienware m17 R4 Gaming Laptop          12  ...            1.0          2\n",
              "\n",
              "[5 rows x 6 columns]"
            ]
          },
          "metadata": {
            "tags": []
          },
          "execution_count": 8
        }
      ]
    },
    {
      "cell_type": "code",
      "metadata": {
        "id": "p9hF2cBaPPax"
      },
      "source": [
        "sparse_content_person = sparse.csr_matrix((new_data['eventStrength'].astype(float), (new_data['product_id'], new_data['person_id'])))\n",
        "sparse_person_content = sparse.csr_matrix((new_data['eventStrength'].astype(float), (new_data['person_id'], new_data['product_id'])))"
      ],
      "execution_count": 9,
      "outputs": []
    },
    {
      "cell_type": "code",
      "metadata": {
        "colab": {
          "base_uri": "https://localhost:8080/"
        },
        "id": "oPKmxpNScBoG",
        "outputId": "3d69d59c-df3f-409b-a050-2d0ec2a6f0fc"
      },
      "source": [
        "sparse_content_person"
      ],
      "execution_count": 10,
      "outputs": [
        {
          "output_type": "execute_result",
          "data": {
            "text/plain": [
              "<13x128 sparse matrix of type '<class 'numpy.float64'>'\n",
              "\twith 157 stored elements in Compressed Sparse Row format>"
            ]
          },
          "metadata": {
            "tags": []
          },
          "execution_count": 10
        }
      ]
    },
    {
      "cell_type": "code",
      "metadata": {
        "colab": {
          "base_uri": "https://localhost:8080/"
        },
        "id": "9sKe9b6PPPay",
        "outputId": "fcca126c-dc44-4a3d-d71b-0b53ead307cd"
      },
      "source": [
        "model = implicit.als.AlternatingLeastSquares(factors=20, regularization=0.1, iterations=50)"
      ],
      "execution_count": 11,
      "outputs": [
        {
          "output_type": "stream",
          "text": [
            "GPU training requires factor size to be a multiple of 32. Increasing factors from 20 to 32.\n",
            "WARNING:root:OpenBLAS detected. Its highly recommend to set the environment variable 'export OPENBLAS_NUM_THREADS=1' to disable its internal multithreading\n"
          ],
          "name": "stderr"
        }
      ]
    },
    {
      "cell_type": "code",
      "metadata": {
        "colab": {
          "base_uri": "https://localhost:8080/",
          "height": 67,
          "referenced_widgets": [
            "ea2bf7b4e4e540faa9951aea682c081b",
            "a2be4c83e276487bb6bc7a7e4106e502",
            "800d96b5a3664e76a5170a6582ea7722",
            "9e30857c9f5c42a6a91b1b687468ef39",
            "abc1dd4341c84a31b5234d9a0bf87344",
            "13c4a4ec7e4e4530b597c30b1fd1aacf",
            "c7458fd3cd494466ab1b5ab9ebfbb6b8",
            "991e39005de742deb6b622bc338073fa"
          ]
        },
        "id": "hYlDj4qJPPay",
        "outputId": "aeda1d9c-7899-44b0-f509-fe1120be549b"
      },
      "source": [
        "alpha = 15\n",
        "data = (sparse_content_person * alpha).astype('double')\n",
        "\n",
        "# Fit the model\n",
        "model.fit(data)"
      ],
      "execution_count": 12,
      "outputs": [
        {
          "output_type": "display_data",
          "data": {
            "application/vnd.jupyter.widget-view+json": {
              "model_id": "ea2bf7b4e4e540faa9951aea682c081b",
              "version_minor": 0,
              "version_major": 2
            },
            "text/plain": [
              "HBox(children=(FloatProgress(value=0.0, max=50.0), HTML(value='')))"
            ]
          },
          "metadata": {
            "tags": []
          }
        },
        {
          "output_type": "stream",
          "text": [
            "\n"
          ],
          "name": "stdout"
        }
      ]
    },
    {
      "cell_type": "code",
      "metadata": {
        "id": "4FM8yJU6PPay"
      },
      "source": [
        "content_id = 5\n",
        "n_similar = 3\n",
        "\n",
        "person_vecs = model.user_factors\n",
        "content_vecs = model.item_factors\n",
        "\n",
        "content_norms = np.sqrt((content_vecs * content_vecs).sum(axis=1))\n",
        "\n",
        "scores = content_vecs.dot(content_vecs[content_id]) / content_norms\n",
        "top_idx = np.argpartition(scores, -n_similar)[-n_similar:]\n",
        "similar = sorted(zip(top_idx, scores[top_idx] / content_norms[content_id]), key=lambda x: -x[1])"
      ],
      "execution_count": 13,
      "outputs": []
    },
    {
      "cell_type": "code",
      "metadata": {
        "colab": {
          "base_uri": "https://localhost:8080/"
        },
        "id": "G_JAdRQWPPaz",
        "outputId": "d7a111f3-3856-4adb-844d-0c79c1c053a9"
      },
      "source": [
        "for content in similar:\n",
        "    idx, score = content\n",
        "    print(new_data.product_name.loc[new_data.product_id == idx].iloc[0])"
      ],
      "execution_count": 14,
      "outputs": [
        {
          "output_type": "stream",
          "text": [
            "Alienware m15 R4 Gaming Laptop\n",
            "XPS 13 2-in-1 Laptop\n",
            "Inspiron 14 Laptop\n"
          ],
          "name": "stdout"
        }
      ]
    },
    {
      "cell_type": "code",
      "metadata": {
        "id": "RTqHq6wNPPaz"
      },
      "source": [
        "def recommend(person_id, sparse_person_content, person_vecs, content_vecs, num_contents=10):\n",
        "    # Get the interactions scores from the sparse person content matrix\n",
        "    person_interactions = sparse_person_content[person_id,:].toarray()\n",
        "    # Add 1 to everything, so that product with no interaction yet become equal to 1\n",
        "    person_interactions = person_interactions.reshape(-1) + 1\n",
        "    # Make product already interacted zero\n",
        "    person_interactions[person_interactions > 1] = 0\n",
        "    # Get dot product of person vector and all content vectors\n",
        "    rec_vector = person_vecs[person_id,:].dot(content_vecs.T).toarray()\n",
        "    \n",
        "    # Scale this recommendation vector between 0 and 1\n",
        "    min_max = MinMaxScaler()\n",
        "    rec_vector_scaled = min_max.fit_transform(rec_vector.reshape(-1,1))[:,0]\n",
        "    # Content already interacted have their recommendation multiplied by zero\n",
        "    recommend_vector = person_interactions * rec_vector_scaled\n",
        "    # Sort the indices of the content into order of best recommendations\n",
        "    content_idx = np.argsort(recommend_vector)[::-1][:num_contents]\n",
        "    \n",
        "    # Start empty list to store product_name and scores\n",
        "    product_name = []\n",
        "    scores = []\n",
        "\n",
        "    for idx in content_idx:\n",
        "        # Append product name and scores to the list\n",
        "        product_name.append(new_data.product_name.loc[new_data.product_id == idx].iloc[0])\n",
        "        scores.append(recommend_vector[idx])\n",
        "\n",
        "    recommendations = pd.DataFrame({'product_name': product_name, 'score': scores})\n",
        "\n",
        "    return recommendations"
      ],
      "execution_count": 18,
      "outputs": []
    },
    {
      "cell_type": "code",
      "metadata": {
        "id": "ZhMbkh_ePPa0"
      },
      "source": [
        "# Get the trained person and content vectors. We convert them to csr matrices\n",
        "person_vecs = sparse.csr_matrix(model.user_factors)\n",
        "content_vecs = sparse.csr_matrix(model.item_factors)\n",
        "\n"
      ],
      "execution_count": 19,
      "outputs": []
    },
    {
      "cell_type": "code",
      "metadata": {
        "colab": {
          "base_uri": "https://localhost:8080/"
        },
        "id": "M7HiaoNowDb5",
        "outputId": "de65c7b9-f09a-453a-c1b3-1eaa36490197"
      },
      "source": [
        "# Create recommendations for person with id 8\n",
        "person_id = 8\n",
        "\n",
        "recommendations = recommend(person_id, sparse_person_content, person_vecs, content_vecs)\n",
        "\n",
        "print(recommendations)"
      ],
      "execution_count": 20,
      "outputs": [
        {
          "output_type": "stream",
          "text": [
            "                     product_name     score\n",
            "0  Alienware m15 R3 Gaming Laptop  0.054579\n",
            "1  Alienware m15 R4 Gaming Laptop  0.031718\n",
            "2  Alienware m17 R3 Gaming Laptop  0.031196\n",
            "3              Inspiron 14 Laptop  0.030415\n",
            "4         New XPS 15 Touch Laptop  0.028810\n",
            "5              Inspiron 17 Laptop  0.028357\n",
            "6         Inspiron 14 3000 Laptop  0.026784\n",
            "7            XPS 13 2-in-1 Laptop  0.026514\n",
            "8                   XPS 15 Laptop  0.022814\n",
            "9  Alienware m17 R4 Gaming Laptop  0.000000\n"
          ],
          "name": "stdout"
        }
      ]
    },
    {
      "cell_type": "code",
      "metadata": {
        "id": "O2K4X_sQwRWr"
      },
      "source": [
        ""
      ],
      "execution_count": null,
      "outputs": []
    }
  ]
}