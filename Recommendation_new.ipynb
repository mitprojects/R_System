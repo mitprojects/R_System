{
  "nbformat": 4,
  "nbformat_minor": 0,
  "metadata": {
    "colab": {
      "name": "Recommendation_new.ipynb",
      "provenance": [],
      "collapsed_sections": [],
      "authorship_tag": "ABX9TyPB/33Ba+TzQ49M1Vt1zTcY",
      "include_colab_link": true
    },
    "kernelspec": {
      "name": "python3",
      "display_name": "Python 3"
    },
    "language_info": {
      "name": "python"
    },
    "accelerator": "GPU",
    "widgets": {
      "application/vnd.jupyter.widget-state+json": {
        "3ff3e85aa3c34d9c8a97557f4e8d92c0": {
          "model_module": "@jupyter-widgets/controls",
          "model_name": "HBoxModel",
          "state": {
            "_view_name": "HBoxView",
            "_dom_classes": [],
            "_model_name": "HBoxModel",
            "_view_module": "@jupyter-widgets/controls",
            "_model_module_version": "1.5.0",
            "_view_count": null,
            "_view_module_version": "1.5.0",
            "box_style": "",
            "layout": "IPY_MODEL_5c46621e38864163939e646546811864",
            "_model_module": "@jupyter-widgets/controls",
            "children": [
              "IPY_MODEL_c200ed014aee440a820cb00f76ea1f36",
              "IPY_MODEL_bcf79e04724047f18dc5f486bda2dce0"
            ]
          }
        },
        "5c46621e38864163939e646546811864": {
          "model_module": "@jupyter-widgets/base",
          "model_name": "LayoutModel",
          "state": {
            "_view_name": "LayoutView",
            "grid_template_rows": null,
            "right": null,
            "justify_content": null,
            "_view_module": "@jupyter-widgets/base",
            "overflow": null,
            "_model_module_version": "1.2.0",
            "_view_count": null,
            "flex_flow": null,
            "width": null,
            "min_width": null,
            "border": null,
            "align_items": null,
            "bottom": null,
            "_model_module": "@jupyter-widgets/base",
            "top": null,
            "grid_column": null,
            "overflow_y": null,
            "overflow_x": null,
            "grid_auto_flow": null,
            "grid_area": null,
            "grid_template_columns": null,
            "flex": null,
            "_model_name": "LayoutModel",
            "justify_items": null,
            "grid_row": null,
            "max_height": null,
            "align_content": null,
            "visibility": null,
            "align_self": null,
            "height": null,
            "min_height": null,
            "padding": null,
            "grid_auto_rows": null,
            "grid_gap": null,
            "max_width": null,
            "order": null,
            "_view_module_version": "1.2.0",
            "grid_template_areas": null,
            "object_position": null,
            "object_fit": null,
            "grid_auto_columns": null,
            "margin": null,
            "display": null,
            "left": null
          }
        },
        "c200ed014aee440a820cb00f76ea1f36": {
          "model_module": "@jupyter-widgets/controls",
          "model_name": "FloatProgressModel",
          "state": {
            "_view_name": "ProgressView",
            "style": "IPY_MODEL_7ff93877904c495ab091c8fc92e018f9",
            "_dom_classes": [],
            "description": "100%",
            "_model_name": "FloatProgressModel",
            "bar_style": "success",
            "max": 50,
            "_view_module": "@jupyter-widgets/controls",
            "_model_module_version": "1.5.0",
            "value": 50,
            "_view_count": null,
            "_view_module_version": "1.5.0",
            "orientation": "horizontal",
            "min": 0,
            "description_tooltip": null,
            "_model_module": "@jupyter-widgets/controls",
            "layout": "IPY_MODEL_7ec8bcb2ac514c9684d679a149895f1d"
          }
        },
        "bcf79e04724047f18dc5f486bda2dce0": {
          "model_module": "@jupyter-widgets/controls",
          "model_name": "HTMLModel",
          "state": {
            "_view_name": "HTMLView",
            "style": "IPY_MODEL_6bb162349ef24ca0b6e09f25f1df17a5",
            "_dom_classes": [],
            "description": "",
            "_model_name": "HTMLModel",
            "placeholder": "​",
            "_view_module": "@jupyter-widgets/controls",
            "_model_module_version": "1.5.0",
            "value": " 50/50 [00:00&lt;00:00, 1126.85it/s]",
            "_view_count": null,
            "_view_module_version": "1.5.0",
            "description_tooltip": null,
            "_model_module": "@jupyter-widgets/controls",
            "layout": "IPY_MODEL_c8d667c4560e496a81baed7e89142654"
          }
        },
        "7ff93877904c495ab091c8fc92e018f9": {
          "model_module": "@jupyter-widgets/controls",
          "model_name": "ProgressStyleModel",
          "state": {
            "_view_name": "StyleView",
            "_model_name": "ProgressStyleModel",
            "description_width": "initial",
            "_view_module": "@jupyter-widgets/base",
            "_model_module_version": "1.5.0",
            "_view_count": null,
            "_view_module_version": "1.2.0",
            "bar_color": null,
            "_model_module": "@jupyter-widgets/controls"
          }
        },
        "7ec8bcb2ac514c9684d679a149895f1d": {
          "model_module": "@jupyter-widgets/base",
          "model_name": "LayoutModel",
          "state": {
            "_view_name": "LayoutView",
            "grid_template_rows": null,
            "right": null,
            "justify_content": null,
            "_view_module": "@jupyter-widgets/base",
            "overflow": null,
            "_model_module_version": "1.2.0",
            "_view_count": null,
            "flex_flow": null,
            "width": null,
            "min_width": null,
            "border": null,
            "align_items": null,
            "bottom": null,
            "_model_module": "@jupyter-widgets/base",
            "top": null,
            "grid_column": null,
            "overflow_y": null,
            "overflow_x": null,
            "grid_auto_flow": null,
            "grid_area": null,
            "grid_template_columns": null,
            "flex": null,
            "_model_name": "LayoutModel",
            "justify_items": null,
            "grid_row": null,
            "max_height": null,
            "align_content": null,
            "visibility": null,
            "align_self": null,
            "height": null,
            "min_height": null,
            "padding": null,
            "grid_auto_rows": null,
            "grid_gap": null,
            "max_width": null,
            "order": null,
            "_view_module_version": "1.2.0",
            "grid_template_areas": null,
            "object_position": null,
            "object_fit": null,
            "grid_auto_columns": null,
            "margin": null,
            "display": null,
            "left": null
          }
        },
        "6bb162349ef24ca0b6e09f25f1df17a5": {
          "model_module": "@jupyter-widgets/controls",
          "model_name": "DescriptionStyleModel",
          "state": {
            "_view_name": "StyleView",
            "_model_name": "DescriptionStyleModel",
            "description_width": "",
            "_view_module": "@jupyter-widgets/base",
            "_model_module_version": "1.5.0",
            "_view_count": null,
            "_view_module_version": "1.2.0",
            "_model_module": "@jupyter-widgets/controls"
          }
        },
        "c8d667c4560e496a81baed7e89142654": {
          "model_module": "@jupyter-widgets/base",
          "model_name": "LayoutModel",
          "state": {
            "_view_name": "LayoutView",
            "grid_template_rows": null,
            "right": null,
            "justify_content": null,
            "_view_module": "@jupyter-widgets/base",
            "overflow": null,
            "_model_module_version": "1.2.0",
            "_view_count": null,
            "flex_flow": null,
            "width": null,
            "min_width": null,
            "border": null,
            "align_items": null,
            "bottom": null,
            "_model_module": "@jupyter-widgets/base",
            "top": null,
            "grid_column": null,
            "overflow_y": null,
            "overflow_x": null,
            "grid_auto_flow": null,
            "grid_area": null,
            "grid_template_columns": null,
            "flex": null,
            "_model_name": "LayoutModel",
            "justify_items": null,
            "grid_row": null,
            "max_height": null,
            "align_content": null,
            "visibility": null,
            "align_self": null,
            "height": null,
            "min_height": null,
            "padding": null,
            "grid_auto_rows": null,
            "grid_gap": null,
            "max_width": null,
            "order": null,
            "_view_module_version": "1.2.0",
            "grid_template_areas": null,
            "object_position": null,
            "object_fit": null,
            "grid_auto_columns": null,
            "margin": null,
            "display": null,
            "left": null
          }
        }
      }
    }
  },
  "cells": [
    {
      "cell_type": "markdown",
      "metadata": {
        "id": "view-in-github",
        "colab_type": "text"
      },
      "source": [
        "<a href=\"https://colab.research.google.com/github/mitprojects/R_System/blob/main/Recommendation_new.ipynb\" target=\"_parent\"><img src=\"https://colab.research.google.com/assets/colab-badge.svg\" alt=\"Open In Colab\"/></a>"
      ]
    },
    {
      "cell_type": "code",
      "metadata": {
        "id": "IZmTnv40P2dA",
        "colab": {
          "base_uri": "https://localhost:8080/"
        },
        "outputId": "ddcf466b-1e31-49a6-9638-4119b94662d0"
      },
      "source": [
        "from google.colab import drive\n",
        "drive.mount('/content/drive')"
      ],
      "execution_count": 92,
      "outputs": [
        {
          "output_type": "stream",
          "text": [
            "Drive already mounted at /content/drive; to attempt to forcibly remount, call drive.mount(\"/content/drive\", force_remount=True).\n"
          ],
          "name": "stdout"
        }
      ]
    },
    {
      "cell_type": "code",
      "metadata": {
        "colab": {
          "base_uri": "https://localhost:8080/"
        },
        "id": "-9PT1ZhrQ278",
        "outputId": "fe0762c4-77c4-49d0-8d6b-83873f991ddf"
      },
      "source": [
        "!pip install implicit"
      ],
      "execution_count": 93,
      "outputs": [
        {
          "output_type": "stream",
          "text": [
            "Requirement already satisfied: implicit in /usr/local/lib/python3.7/dist-packages (0.4.4)\n",
            "Requirement already satisfied: tqdm>=4.27 in /usr/local/lib/python3.7/dist-packages (from implicit) (4.41.1)\n",
            "Requirement already satisfied: numpy in /usr/local/lib/python3.7/dist-packages (from implicit) (1.19.5)\n",
            "Requirement already satisfied: scipy>=0.16 in /usr/local/lib/python3.7/dist-packages (from implicit) (1.4.1)\n"
          ],
          "name": "stdout"
        }
      ]
    },
    {
      "cell_type": "code",
      "metadata": {
        "id": "02HuknVuPPak"
      },
      "source": [
        "import pandas as pd\n",
        "import scipy.sparse as sparse\n",
        "import os\n",
        "import numpy as np\n",
        "import random\n",
        "import implicit\n",
        "from sklearn.preprocessing import MinMaxScaler\n",
        "from sklearn import metrics"
      ],
      "execution_count": 94,
      "outputs": []
    },
    {
      "cell_type": "code",
      "metadata": {
        "id": "_X45wJkCiIWY"
      },
      "source": [
        "Data_dir = os.getcwd() + \"/drive/MyDrive/Colab Notebooks/\""
      ],
      "execution_count": 95,
      "outputs": []
    },
    {
      "cell_type": "code",
      "metadata": {
        "id": "J1n0eOAPPPan"
      },
      "source": [
        "new_data = pd.read_csv(Data_dir+'new Data/archive/new_RS_data.csv')\n",
        "new_data.drop(columns=['Unnamed: 0'],axis=1,inplace=True)"
      ],
      "execution_count": 96,
      "outputs": []
    },
    {
      "cell_type": "code",
      "metadata": {
        "colab": {
          "base_uri": "https://localhost:8080/",
          "height": 202
        },
        "id": "Ug81sDvMv7Wb",
        "outputId": "a58686b4-f106-486b-b72e-1d16fb2c1e1b"
      },
      "source": [
        "new_data.head()"
      ],
      "execution_count": 97,
      "outputs": [
        {
          "output_type": "execute_result",
          "data": {
            "text/html": [
              "<div>\n",
              "<style scoped>\n",
              "    .dataframe tbody tr th:only-of-type {\n",
              "        vertical-align: middle;\n",
              "    }\n",
              "\n",
              "    .dataframe tbody tr th {\n",
              "        vertical-align: top;\n",
              "    }\n",
              "\n",
              "    .dataframe thead th {\n",
              "        text-align: right;\n",
              "    }\n",
              "</style>\n",
              "<table border=\"1\" class=\"dataframe\">\n",
              "  <thead>\n",
              "    <tr style=\"text-align: right;\">\n",
              "      <th></th>\n",
              "      <th>product_name</th>\n",
              "      <th>content_id</th>\n",
              "      <th>personId</th>\n",
              "      <th>contentId</th>\n",
              "      <th>eventStrength</th>\n",
              "      <th>person_id</th>\n",
              "    </tr>\n",
              "  </thead>\n",
              "  <tbody>\n",
              "    <tr>\n",
              "      <th>0</th>\n",
              "      <td>XPS 13 2-in-1 Laptop</td>\n",
              "      <td>1</td>\n",
              "      <td>-9207251133131336884</td>\n",
              "      <td>-9216926795620865886</td>\n",
              "      <td>3.0</td>\n",
              "      <td>0</td>\n",
              "    </tr>\n",
              "    <tr>\n",
              "      <th>1</th>\n",
              "      <td>XPS 17 Laptop</td>\n",
              "      <td>3</td>\n",
              "      <td>-9016528795238256703</td>\n",
              "      <td>-9192549002213406534</td>\n",
              "      <td>1.0</td>\n",
              "      <td>1</td>\n",
              "    </tr>\n",
              "    <tr>\n",
              "      <th>2</th>\n",
              "      <td>Inspiron 14 Laptop</td>\n",
              "      <td>7</td>\n",
              "      <td>-9016528795238256703</td>\n",
              "      <td>-9176143510534135851</td>\n",
              "      <td>1.0</td>\n",
              "      <td>1</td>\n",
              "    </tr>\n",
              "    <tr>\n",
              "      <th>3</th>\n",
              "      <td>Inspiron 15 3000 Laptop</td>\n",
              "      <td>3</td>\n",
              "      <td>-9016528795238256703</td>\n",
              "      <td>-9192549002213406534</td>\n",
              "      <td>1.0</td>\n",
              "      <td>1</td>\n",
              "    </tr>\n",
              "    <tr>\n",
              "      <th>4</th>\n",
              "      <td>Alienware m17 R4 Gaming Laptop</td>\n",
              "      <td>12</td>\n",
              "      <td>-9009798162809551896</td>\n",
              "      <td>-9160910454530522563</td>\n",
              "      <td>1.0</td>\n",
              "      <td>2</td>\n",
              "    </tr>\n",
              "  </tbody>\n",
              "</table>\n",
              "</div>"
            ],
            "text/plain": [
              "                     product_name  content_id  ...  eventStrength  person_id\n",
              "0            XPS 13 2-in-1 Laptop           1  ...            3.0          0\n",
              "1                   XPS 17 Laptop           3  ...            1.0          1\n",
              "2              Inspiron 14 Laptop           7  ...            1.0          1\n",
              "3         Inspiron 15 3000 Laptop           3  ...            1.0          1\n",
              "4  Alienware m17 R4 Gaming Laptop          12  ...            1.0          2\n",
              "\n",
              "[5 rows x 6 columns]"
            ]
          },
          "metadata": {
            "tags": []
          },
          "execution_count": 97
        }
      ]
    },
    {
      "cell_type": "code",
      "metadata": {
        "id": "p9hF2cBaPPax"
      },
      "source": [
        "sparse_content_person = sparse.csr_matrix((new_data['eventStrength'].astype(float), (new_data['content_id'], new_data['person_id'])))\n",
        "sparse_person_content = sparse.csr_matrix((new_data['eventStrength'].astype(float), (new_data['person_id'], new_data['content_id'])))"
      ],
      "execution_count": 98,
      "outputs": []
    },
    {
      "cell_type": "code",
      "metadata": {
        "colab": {
          "base_uri": "https://localhost:8080/"
        },
        "id": "oPKmxpNScBoG",
        "outputId": "edd6510b-6014-4c47-b847-4cb16831054d"
      },
      "source": [
        "sparse_content_person"
      ],
      "execution_count": 99,
      "outputs": [
        {
          "output_type": "execute_result",
          "data": {
            "text/plain": [
              "<13x128 sparse matrix of type '<class 'numpy.float64'>'\n",
              "\twith 157 stored elements in Compressed Sparse Row format>"
            ]
          },
          "metadata": {
            "tags": []
          },
          "execution_count": 99
        }
      ]
    },
    {
      "cell_type": "code",
      "metadata": {
        "colab": {
          "base_uri": "https://localhost:8080/"
        },
        "id": "9sKe9b6PPPay",
        "outputId": "06e380ff-1aa7-4b7a-de6e-1bd342d37dfa"
      },
      "source": [
        "model = implicit.als.AlternatingLeastSquares(factors=20, regularization=0.1, iterations=50)"
      ],
      "execution_count": 100,
      "outputs": [
        {
          "output_type": "stream",
          "text": [
            "WARNING:implicit:GPU training requires factor size to be a multiple of 32. Increasing factors from 20 to 32.\n"
          ],
          "name": "stderr"
        }
      ]
    },
    {
      "cell_type": "code",
      "metadata": {
        "colab": {
          "base_uri": "https://localhost:8080/",
          "height": 67,
          "referenced_widgets": [
            "3ff3e85aa3c34d9c8a97557f4e8d92c0",
            "5c46621e38864163939e646546811864",
            "c200ed014aee440a820cb00f76ea1f36",
            "bcf79e04724047f18dc5f486bda2dce0",
            "7ff93877904c495ab091c8fc92e018f9",
            "7ec8bcb2ac514c9684d679a149895f1d",
            "6bb162349ef24ca0b6e09f25f1df17a5",
            "c8d667c4560e496a81baed7e89142654"
          ]
        },
        "id": "hYlDj4qJPPay",
        "outputId": "d3079d2b-d53a-4845-d226-b2a2e727f797"
      },
      "source": [
        "alpha = 15\n",
        "data = (sparse_content_person * alpha).astype('double')\n",
        "\n",
        "# Fit the model\n",
        "model.fit(data)"
      ],
      "execution_count": 101,
      "outputs": [
        {
          "output_type": "display_data",
          "data": {
            "application/vnd.jupyter.widget-view+json": {
              "model_id": "3ff3e85aa3c34d9c8a97557f4e8d92c0",
              "version_minor": 0,
              "version_major": 2
            },
            "text/plain": [
              "HBox(children=(FloatProgress(value=0.0, max=50.0), HTML(value='')))"
            ]
          },
          "metadata": {
            "tags": []
          }
        },
        {
          "output_type": "stream",
          "text": [
            "\n"
          ],
          "name": "stdout"
        }
      ]
    },
    {
      "cell_type": "code",
      "metadata": {
        "id": "4FM8yJU6PPay"
      },
      "source": [
        "content_id = 5\n",
        "n_similar = 3\n",
        "\n",
        "person_vecs = model.user_factors\n",
        "content_vecs = model.item_factors\n",
        "\n",
        "content_norms = np.sqrt((content_vecs * content_vecs).sum(axis=1))\n",
        "\n",
        "scores = content_vecs.dot(content_vecs[content_id]) / content_norms\n",
        "top_idx = np.argpartition(scores, -n_similar)[-n_similar:]\n",
        "similar = sorted(zip(top_idx, scores[top_idx] / content_norms[content_id]), key=lambda x: -x[1])"
      ],
      "execution_count": 102,
      "outputs": []
    },
    {
      "cell_type": "code",
      "metadata": {
        "colab": {
          "base_uri": "https://localhost:8080/"
        },
        "id": "G_JAdRQWPPaz",
        "outputId": "35e86966-a51f-463c-8127-73a8458e9fd7"
      },
      "source": [
        "for content in similar:\n",
        "    idx, score = content\n",
        "    print(new_data.product_name.loc[new_data.content_id == idx].iloc[0])"
      ],
      "execution_count": 103,
      "outputs": [
        {
          "output_type": "stream",
          "text": [
            "Alienware m15 R4 Gaming Laptop\n",
            "XPS 13 2-in-1 Laptop\n",
            "New XPS 15 Touch Laptop\n"
          ],
          "name": "stdout"
        }
      ]
    },
    {
      "cell_type": "code",
      "metadata": {
        "id": "RTqHq6wNPPaz"
      },
      "source": [
        "def recommend(person_id, sparse_person_content, person_vecs, content_vecs, num_contents=10):\n",
        "    # Get the interactions scores from the sparse person content matrix\n",
        "    person_interactions = sparse_person_content[person_id,:].toarray()\n",
        "    # Add 1 to everything, so that articles with no interaction yet become equal to 1\n",
        "    person_interactions = person_interactions.reshape(-1) + 1\n",
        "    # Make articles already interacted zero\n",
        "    person_interactions[person_interactions > 1] = 0\n",
        "    # Get dot product of person vector and all content vectors\n",
        "    rec_vector = person_vecs[person_id,:].dot(content_vecs.T).toarray()\n",
        "    \n",
        "    # Scale this recommendation vector between 0 and 1\n",
        "    min_max = MinMaxScaler()\n",
        "    rec_vector_scaled = min_max.fit_transform(rec_vector.reshape(-1,1))[:,0]\n",
        "    # Content already interacted have their recommendation multiplied by zero\n",
        "    recommend_vector = person_interactions * rec_vector_scaled\n",
        "    # Sort the indices of the content into order of best recommendations\n",
        "    content_idx = np.argsort(recommend_vector)[::-1][:num_contents]\n",
        "    \n",
        "    # Start empty list to store titles and scores\n",
        "    product_name = []\n",
        "    scores = []\n",
        "\n",
        "    for idx in content_idx:\n",
        "        # Append titles and scores to the list\n",
        "        product_name.append(new_data.product_name.loc[new_data.content_id == idx].iloc[0])\n",
        "        scores.append(recommend_vector[idx])\n",
        "\n",
        "    recommendations = pd.DataFrame({'product_name': product_name, 'score': scores})\n",
        "\n",
        "    return recommendations"
      ],
      "execution_count": 104,
      "outputs": []
    },
    {
      "cell_type": "code",
      "metadata": {
        "id": "ZhMbkh_ePPa0"
      },
      "source": [
        "# Get the trained person and content vectors. We convert them to csr matrices\n",
        "person_vecs = sparse.csr_matrix(model.user_factors)\n",
        "content_vecs = sparse.csr_matrix(model.item_factors)\n",
        "\n"
      ],
      "execution_count": 105,
      "outputs": []
    },
    {
      "cell_type": "code",
      "metadata": {
        "colab": {
          "base_uri": "https://localhost:8080/"
        },
        "id": "M7HiaoNowDb5",
        "outputId": "4e55f241-be4b-4e3f-9607-59d02cee2599"
      },
      "source": [
        "# Create recommendations for person with id 8\n",
        "person_id = 8\n",
        "\n",
        "recommendations = recommend(person_id, sparse_person_content, person_vecs, content_vecs)\n",
        "\n",
        "print(recommendations)"
      ],
      "execution_count": 107,
      "outputs": [
        {
          "output_type": "stream",
          "text": [
            "                     product_name     score\n",
            "0  Alienware m15 R3 Gaming Laptop  0.051205\n",
            "1  Alienware m17 R3 Gaming Laptop  0.041234\n",
            "2              Inspiron 17 Laptop  0.038477\n",
            "3              Inspiron 14 Laptop  0.034614\n",
            "4  Alienware m15 R4 Gaming Laptop  0.034447\n",
            "5         Inspiron 14 3000 Laptop  0.033881\n",
            "6            XPS 13 2-in-1 Laptop  0.033645\n",
            "7                   XPS 15 Laptop  0.033606\n",
            "8         New XPS 15 Touch Laptop  0.032792\n",
            "9  Alienware m17 R4 Gaming Laptop  0.000000\n"
          ],
          "name": "stdout"
        }
      ]
    },
    {
      "cell_type": "code",
      "metadata": {
        "id": "O2K4X_sQwRWr"
      },
      "source": [
        ""
      ],
      "execution_count": null,
      "outputs": []
    }
  ]
}